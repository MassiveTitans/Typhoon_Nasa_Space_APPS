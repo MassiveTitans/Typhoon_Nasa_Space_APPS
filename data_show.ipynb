{
  "cells": [
    {
      "cell_type": "markdown",
      "id": "3dcd5b7b-9708-41bd-9a64-53f6a7e5aa9b",
      "metadata": {
        "id": "3dcd5b7b-9708-41bd-9a64-53f6a7e5aa9b"
      },
      "source": [
        "#NASA Space Apps Challenge 2023 in Tashkent\n",
        "\n",
        "\n",
        "\n",
        "### Team: Typhoon\n",
        "### Members:\n",
        "- Yaxshiliqov Javlon\n",
        "- Jabborov Diyorbek"
      ]
    },
    {
      "cell_type": "code",
      "execution_count": 23,
      "id": "8d820246-f14d-4e23-821c-7a551fc29d4b",
      "metadata": {
        "id": "8d820246-f14d-4e23-821c-7a551fc29d4b"
      },
      "outputs": [],
      "source": [
        "from tqdm import tqdm\n",
        "import pandas as pd\n",
        "\n",
        "import numpy as np\n",
        "from concurrent.futures import ThreadPoolExecutor\n",
        "from multiprocessing.pool import ThreadPool\n",
        "import os\n",
        "\n",
        "import matplotlib.pyplot as plt\n",
        "from matplotlib import colors\n",
        "\n",
        "def extract_kernel_df(image_arr: np.array, feature: str = \"default\", kernel: int = 3) -> pd.DataFrame:\n",
        "    \"\"\"\n",
        "    Function which takes a 2d image array, applies a kernel\n",
        "    to each pixel, and returns a dataframe where each row is the kernel for a single pixel\n",
        "    and each col is a location on the kernel.\n",
        "    \"\"\"\n",
        "    strided = np.lib.stride_tricks.sliding_window_view(image_arr, (kernel, kernel))\n",
        "    strided_reshaped = strided.reshape(strided.shape[0]*strided.shape[1], kernel*kernel) # flatten the kernel and a row for each pixel\n",
        "    columns = [f\"{feature}_{i}\" for i in range(kernel*kernel)]\n",
        "    return pd.DataFrame(data = strided_reshaped, columns = columns)"
      ]
    },
    {
      "cell_type": "markdown",
      "id": "aa495d51-f53e-436b-96fe-315d71475c32",
      "metadata": {
        "id": "aa495d51-f53e-436b-96fe-315d71475c32"
      },
      "source": [
        "Get features available from a single example"
      ]
    },
    {
      "cell_type": "code",
      "execution_count": 24,
      "id": "63b87116-5036-42a5-bf0b-87656f87dcfb",
      "metadata": {
        "colab": {
          "base_uri": "https://localhost:8080/"
        },
        "id": "63b87116-5036-42a5-bf0b-87656f87dcfb",
        "outputId": "b01cf06c-d340-47c4-951f-16fa501ebe80"
      },
      "outputs": [
        {
          "output_type": "execute_result",
          "data": {
            "text/plain": [
              "['elevation',\n",
              " 'precipitation_amount_1hour_Accumulation',\n",
              " 'tomorrows_frp',\n",
              " 'air_temperature_at_2_metres_1hour_Minimum',\n",
              " 'dew_point_temperature_at_2_metres',\n",
              " 'eastward_wind_at_100_metres',\n",
              " 'air_temperature_at_2_metres_1hour_Maximum',\n",
              " 'northward_wind_at_10_metres',\n",
              " 'eastward_wind_at_10_metres',\n",
              " 'ndvi',\n",
              " 'tomorrows_fires',\n",
              " 'todays_fires',\n",
              " 'surface_air_pressure',\n",
              " 'air_pressure_at_mean_sea_level',\n",
              " 'northward_wind_at_100_metres',\n",
              " 'todays_frp',\n",
              " 'lwe_thickness_of_surface_snow_amount',\n",
              " 'snow_density',\n",
              " 'landcover',\n",
              " 'air_temperature_at_2_metres']"
            ]
          },
          "metadata": {},
          "execution_count": 24
        }
      ],
      "source": [
        "import os\n",
        "\n",
        "directory_path = '/content/'\n",
        "features = [f for f in os.listdir(directory_path) if f.endswith('.npy')]\n",
        "features = [os.path.splitext(f)[0] for f in features if f != 'sea_surface_temperature.npy']\n",
        "features"
      ]
    },
    {
      "cell_type": "code",
      "source": [
        "sample_ids = [0]"
      ],
      "metadata": {
        "id": "mXzmaDZpPAwI"
      },
      "id": "mXzmaDZpPAwI",
      "execution_count": 25,
      "outputs": []
    },
    {
      "cell_type": "markdown",
      "id": "3ec242a0",
      "metadata": {
        "id": "3ec242a0"
      },
      "source": [
        "Samples are split into train/test/eval in a csv, for consistent comparison with the deep learning model."
      ]
    },
    {
      "cell_type": "markdown",
      "id": "36184f6d-8518-4e1c-bca5-2d5744021afa",
      "metadata": {
        "id": "36184f6d-8518-4e1c-bca5-2d5744021afa"
      },
      "source": [
        "Now loop to extract data from s3 to local dataframe"
      ]
    },
    {
      "cell_type": "code",
      "execution_count": 26,
      "id": "03670180-7a88-4795-b051-caf9e5f58929",
      "metadata": {
        "id": "03670180-7a88-4795-b051-caf9e5f58929"
      },
      "outputs": [],
      "source": [
        "\n",
        "def get_data_for_sample(id: int) -> pd.DataFrame:\n",
        "    feature_df_list = []\n",
        "    for feature in features:\n",
        "        img_arr = np.load(f'/content/{feature}.npy')\n",
        "        if feature == 'tomorrows_fires':\n",
        "            img_arr = img_arr[1:-1, 1:-1]\n",
        "            feature_df = pd.DataFrame(data = img_arr.flatten(), columns = ['tomorrows_fires'])\n",
        "        else:\n",
        "            feature_df = extract_kernel_df(img_arr, feature)\n",
        "        feature_df_list.append(feature_df)\n",
        "    feature_df_list.append(pd.DataFrame(data = np.ones(62*62)*int(id), columns = ['image_index']))\n",
        "    return pd.concat(feature_df_list, axis=1)"
      ]
    },
    {
      "cell_type": "code",
      "execution_count": 27,
      "id": "3ced5d55-7a8d-4df8-b89e-3ce89339c3ea",
      "metadata": {
        "colab": {
          "base_uri": "https://localhost:8080/"
        },
        "id": "3ced5d55-7a8d-4df8-b89e-3ce89339c3ea",
        "outputId": "9e5129b5-a2fb-4011-90ac-6c7102155a98"
      },
      "outputs": [
        {
          "output_type": "stream",
          "name": "stderr",
          "text": [
            "100%|██████████| 1/1 [00:00<00:00, 36.12it/s]\n"
          ]
        },
        {
          "output_type": "stream",
          "name": "stdout",
          "text": [
            "CPU times: user 744 ms, sys: 17.9 ms, total: 762 ms\n",
            "Wall time: 777 ms\n"
          ]
        },
        {
          "output_type": "execute_result",
          "data": {
            "text/plain": [
              "(3844, 173)"
            ]
          },
          "metadata": {},
          "execution_count": 27
        }
      ],
      "source": [
        "%%time\n",
        "\n",
        "with ThreadPool(os.cpu_count()) as pool:\n",
        "      results = list(tqdm(pool.imap(get_data_for_sample, sample_ids), total=len(sample_ids)))\n",
        "\n",
        "len(results)\n",
        "\n",
        "df = pd.concat(results, axis=0)\n",
        "df.to_csv('data.csv', index=False)\n",
        "df.shape"
      ]
    },
    {
      "cell_type": "code",
      "execution_count": 42,
      "id": "50b15660-52c2-4c2a-be07-46f8eda5c79e",
      "metadata": {
        "colab": {
          "base_uri": "https://localhost:8080/",
          "height": 487
        },
        "id": "50b15660-52c2-4c2a-be07-46f8eda5c79e",
        "outputId": "6f2c5814-e6a5-465b-d7f5-1d48100b5a29"
      },
      "outputs": [
        {
          "output_type": "stream",
          "name": "stdout",
          "text": [
            "static_fire_pixels: 19.0\n",
            "fire_ave_size: 0.023413111342351717\n",
            "percent static: 81151.1 %\n"
          ]
        },
        {
          "output_type": "display_data",
          "data": {
            "text/plain": [
              "<Figure size 1000x600 with 2 Axes>"
            ],
            "image/png": "[encoded data removed]"
          },
          "metadata": {}
        }
      ],
      "source": [
        "def plot_feature(image_index: int):\n",
        "    frame_size = 62*62\n",
        "    start_index = image_index * frame_size\n",
        "    end_index = (image_index + 1) * frame_size\n",
        "    fig, (ax1, ax2) = plt.subplots(1, 2, figsize=(10, 6))\n",
        "    today = df[\"todays_fires_4\"].iloc[start_index:end_index].values.reshape(62, 62)\n",
        "    tomorrow = df[\"tomorrows_fires\"].iloc[start_index:end_index].values.reshape(62, 62)\n",
        "    ax1.imshow(today)\n",
        "    ax1.set_title(\"today\")\n",
        "    ax2.imshow(tomorrow)\n",
        "    ax2.set_title(\"tomorrow\")\n",
        "    static_fire_pixels = np.sum(today.flatten() * tomorrow.flatten())\n",
        "    print(f\"static_fire_pixels: {static_fire_pixels}\")\n",
        "    fire_ave_size = np.mean(today.flatten() + tomorrow.flatten())\n",
        "    print(f\"fire_ave_size: {fire_ave_size}\")\n",
        "    print(f\"percent static: {round(100 * static_fire_pixels / fire_ave_size, 1)} %\")\n",
        "\n",
        "image_index = 0\n",
        "plot_feature(image_index)\n"
      ]
    },
    {
      "cell_type": "code",
      "execution_count": null,
      "id": "4f14f76b",
      "metadata": {
        "id": "4f14f76b"
      },
      "outputs": [],
      "source": []
    }
  ],
  "metadata": {
    "interpreter": {
      "hash": "aafdfdf2a477a891d5a071148c895ea18914d2262790416c664cd6c94df184b5"
    },
    "kernelspec": {
      "display_name": ".conda-tf-cpu:Python",
      "language": "python",
      "name": "python3"
    },
    "language_info": {
      "codemirror_mode": {
        "name": "ipython",
        "version": 3
      },
      "file_extension": ".py",
      "mimetype": "text/x-python",
      "name": "python",
      "nbconvert_exporter": "python",
      "pygments_lexer": "ipython3",
      "version": "3.9.7"
    },
    "colab": {
      "provenance": []
    }
  },
  "nbformat": 4,
  "nbformat_minor": 5
}