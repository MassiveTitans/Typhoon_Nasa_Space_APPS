{
  "cells": [
    {
      "cell_type": "markdown",
      "id": "e4d92ca5-9068-4a4f-a5da-2bb12fc57771",
      "metadata": {
        "id": "e4d92ca5-9068-4a4f-a5da-2bb12fc57771"
      },
      "source": [
        "#NASA Space Apps Challenge 2023 in Tashkent\n",
        "\n",
        "\n",
        "\n",
        "### Team: Typhoon\n",
        "### Members:\n",
        "- Yaxshiliqov Javlon\n",
        "- Jabborov Diyorbek"
      ]
    },
    {
      "cell_type": "code",
      "execution_count": 1,
      "id": "8d6057dc-c584-4c02-a661-7ccd50382fb8",
      "metadata": {
        "id": "8d6057dc-c584-4c02-a661-7ccd50382fb8"
      },
      "outputs": [],
      "source": [
        "import os\n",
        "import sys\n",
        "import glob\n",
        "import numpy as np\n",
        "import keras\n",
        "from PIL import Image\n",
        "import matplotlib.pyplot as plt\n",
        "from matplotlib import colors\n",
        "\n",
        "from config import common_config, dataset_config, training_config, model_config, test_config, classification_config\n",
        "import model_resunet"
      ]
    },
    {
      "cell_type": "code",
      "execution_count": null,
      "id": "1a59bae3-57fd-436b-a2ac-7c2fdc7a9560",
      "metadata": {
        "tags": [],
        "id": "1a59bae3-57fd-436b-a2ac-7c2fdc7a9560"
      },
      "outputs": [],
      "source": [
        "# Parameters\n",
        "\n",
        "output_predictions_dir = os.path.join(common_config[\"OUTPUT_DIR\"], \"predictions\")\n",
        "if not os.path.exists(output_predictions_dir):\n",
        "    os.makedirs(output_predictions_dir)\n",
        "\n",
        "\n",
        "model_pattern =  \"/content/fire_model_crisp-microwave-181_weights.h5\""
      ]
    },
    {
      "cell_type": "code",
      "execution_count": null,
      "id": "f66449fd-7be5-4c3d-be22-44d4c114677a",
      "metadata": {
        "id": "f66449fd-7be5-4c3d-be22-44d4c114677a"
      },
      "outputs": [],
      "source": [
        "# Look for a model\n",
        "model_paths = glob.glob(model_pattern)\n",
        "if not len(model_paths) == 1:\n",
        "    print(\"One model must be provided.\")\n",
        "    sys.exit()\n",
        "\n",
        "# Define ResUNet model\n",
        "model = model_resunet.get_model([model_config[\"IMG_SIZE\"][0],model_config[\"IMG_SIZE\"][1],len(dataset_config[\"INPUT_FEATURES\"])])\n",
        "\n",
        "# Load model weights\n",
        "model.load_weights(os.path.join(model_paths[0]))"
      ]
    },
    {
      "cell_type": "code",
      "execution_count": null,
      "id": "341c6569-fa73-4098-bf40-d670b054327c",
      "metadata": {
        "id": "341c6569-fa73-4098-bf40-d670b054327c"
      },
      "outputs": [],
      "source": [
        "# Read input .npy files and get them ready for classification. Also read target output for visualisation.\n",
        "input_data = []\n",
        "targets = []\n",
        "\n",
        "for sample_id in classification_config[\"SAMPLE_IDS\"]:\n",
        "    sample_dir = \"/content/\"\n",
        "    input_filenames = list()\n",
        "    for input_feature_name in dataset_config[\"INPUT_FEATURES\"]:\n",
        "        found_fname = glob.glob(sample_dir+'/{}*.npy'.format(input_feature_name))\n",
        "        input_filenames.append(found_fname[0])\n",
        "    combined_data = np.array([np.load(fname) for fname in input_filenames])\n",
        "    input_data.append(combined_data)\n",
        "\n",
        "    output_filenames = list()\n",
        "    for target_feature_name in dataset_config[\"OUTPUT_FEATURES\"]:\n",
        "        found_fname = glob.glob(sample_dir+'/{}*.npy'.format(target_feature_name))\n",
        "        output_filenames.append(found_fname[0])\n",
        "    target_array = np.array([np.load(fname) for fname in output_filenames])\n",
        "    targets.append(target_array)\n",
        "\n",
        "input_data = np.moveaxis(np.array(input_data), 1, -1)\n",
        "targets = np.moveaxis(np.array(targets), 1, -1)"
      ]
    },
    {
      "cell_type": "code",
      "execution_count": null,
      "id": "8504f679-1af6-464f-a660-7b5fb4f250d3",
      "metadata": {
        "id": "8504f679-1af6-464f-a660-7b5fb4f250d3"
      },
      "outputs": [],
      "source": [
        "# Clip and rescale values according to dataset stats.\n",
        "for i, input_feature_name in enumerate(dataset_config[\"INPUT_FEATURES\"]):\n",
        "    min_val, max_val, _, _ = dataset_config[\"DATA_STATS\"][input_feature_name]\n",
        "    input_data[:, :, :, i] = np.clip(input_data[:, :, :, i], min_val, max_val)\n",
        "\n",
        "    if not input_feature_name in dataset_config[\"FEATURES_NOT_NORM\"]:\n",
        "        input_data[:, :, :, i] = np.divide((input_data[:, :, :, i]-min_val), (max_val - min_val), out=np.zeros_like(input_data[:, :, :, i]), where=(max_val - min_val)!=0)"
      ]
    },
    {
      "cell_type": "code",
      "execution_count": null,
      "id": "b1743976-b2cd-47c6-ab44-b225f742281d",
      "metadata": {
        "colab": {
          "base_uri": "https://localhost:8080/"
        },
        "id": "b1743976-b2cd-47c6-ab44-b225f742281d",
        "outputId": "265ff065-7ae5-4b1a-ebc0-0c9a72c66d76"
      },
      "outputs": [
        {
          "output_type": "stream",
          "name": "stdout",
          "text": [
            "1/1 [==============================] - 1s 564ms/step\n"
          ]
        }
      ],
      "source": [
        "# Predict\n",
        "preds = list()\n",
        "for input_sample in input_data:\n",
        "    input_sample = np.expand_dims(input_sample, axis=0)\n",
        "    pred = model.predict(input_sample)\n",
        "    preds.append(pred)\n",
        "preds = np.array(preds).squeeze(axis=1)\n",
        "masks = np.round(preds)"
      ]
    },
    {
      "cell_type": "code",
      "execution_count": null,
      "id": "eca7268a-c92c-41b8-bdcf-656d637f4350",
      "metadata": {
        "id": "eca7268a-c92c-41b8-bdcf-656d637f4350"
      },
      "outputs": [],
      "source": [
        "# Save predictions (classification and probabilities) as .npy files.\n",
        "for sample_id, mask, pred in zip(classification_config[\"SAMPLE_IDS\"], masks, preds):\n",
        "    classif_output_dir = os.path.join(output_predictions_dir, str(sample_id))\n",
        "    if not os.path.exists(classif_output_dir):\n",
        "        os.makedirs(classif_output_dir)\n",
        "    classification_filepath = os.path.join(classif_output_dir, \"classification\")\n",
        "    probabilities_filepath = os.path.join(classif_output_dir, \"probabilities\")\n",
        "    np.save(classification_filepath, mask)\n",
        "    np.save(probabilities_filepath, pred)"
      ]
    },
    {
      "cell_type": "code",
      "execution_count": null,
      "id": "54450267-c66a-4d44-9724-3b14f0171e2e",
      "metadata": {
        "colab": {
          "base_uri": "https://localhost:8080/",
          "height": 449
        },
        "id": "54450267-c66a-4d44-9724-3b14f0171e2e",
        "outputId": "84898a54-6ffa-4ab8-c7f3-44d735595db0"
      },
      "outputs": [
        {
          "output_type": "execute_result",
          "data": {
            "text/plain": [
              "<matplotlib.image.AxesImage at 0x78c564cd0a00>"
            ]
          },
          "metadata": {},
          "execution_count": 24
        },
        {
          "output_type": "display_data",
          "data": {
            "text/plain": [
              "<Figure size 640x480 with 1 Axes>"
            ],
            "image/png": "[encoded data removed]"
          },
          "metadata": {}
        }
      ],
      "source": [
        "# Visualize outputs, target output, previous day fire mask.\n",
        "CMAP = colors.ListedColormap(['silver', 'orangered'])\n",
        "BOUNDS = [0., 1.]\n",
        "NORM = colors.BoundaryNorm(BOUNDS, CMAP.N)\n",
        "\n",
        "img_ind = 0\n",
        "\n",
        "plt.imshow(input_data[img_ind, :, :, -1], cmap=CMAP, norm=NORM)"
      ]
    },
    {
      "cell_type": "code",
      "execution_count": null,
      "id": "3590618f-ff9a-4f57-b705-c5e30fcb256a",
      "metadata": {
        "colab": {
          "base_uri": "https://localhost:8080/",
          "height": 449
        },
        "id": "3590618f-ff9a-4f57-b705-c5e30fcb256a",
        "outputId": "c8a1fdb3-4050-486a-fac8-435ef71e60b9"
      },
      "outputs": [
        {
          "output_type": "execute_result",
          "data": {
            "text/plain": [
              "<matplotlib.image.AxesImage at 0x78c566bd74f0>"
            ]
          },
          "metadata": {},
          "execution_count": 25
        },
        {
          "output_type": "display_data",
          "data": {
            "text/plain": [
              "<Figure size 640x480 with 1 Axes>"
            ],
            "image/png": "[encoded data removed]"
          },
          "metadata": {}
        }
      ],
      "source": [
        "plt.imshow(targets[img_ind, :, :, 0], cmap=CMAP, norm=NORM)"
      ]
    },
    {
      "cell_type": "code",
      "execution_count": null,
      "id": "d7a081bd-d24d-4004-a202-6763c049b778",
      "metadata": {
        "id": "d7a081bd-d24d-4004-a202-6763c049b778"
      },
      "outputs": [],
      "source": [
        "plt.imshow(masks[img_ind, :, :], cmap=CMAP, norm=NORM)"
      ]
    },
    {
      "cell_type": "code",
      "execution_count": null,
      "id": "ef2d9279-b743-412e-8180-00e1bde37600",
      "metadata": {
        "colab": {
          "base_uri": "https://localhost:8080/",
          "height": 449
        },
        "id": "ef2d9279-b743-412e-8180-00e1bde37600",
        "outputId": "f38687af-c914-46f4-fbc1-b6bdca92e028"
      },
      "outputs": [
        {
          "output_type": "execute_result",
          "data": {
            "text/plain": [
              "<matplotlib.image.AxesImage at 0x78c566b0cc40>"
            ]
          },
          "metadata": {},
          "execution_count": 27
        },
        {
          "output_type": "display_data",
          "data": {
            "text/plain": [
              "<Figure size 640x480 with 1 Axes>"
            ],
            "image/png": "[encoded data removed]"
          },
          "metadata": {}
        }
      ],
      "source": [
        "plt.imshow(preds[img_ind, :, :], cmap='Reds')"
      ]
    },
    {
      "cell_type": "code",
      "execution_count": null,
      "id": "382d35bb-f7c2-4ccd-9c1b-d9c3712e32fa",
      "metadata": {
        "colab": {
          "base_uri": "https://localhost:8080/",
          "height": 361
        },
        "id": "382d35bb-f7c2-4ccd-9c1b-d9c3712e32fa",
        "outputId": "e3c06009-5362-4e5d-d60d-49ecd23e49ff"
      },
      "outputs": [
        {
          "output_type": "display_data",
          "data": {
            "text/plain": [
              "<Figure size 3000x1300 with 3 Axes>"
            ],
            "image/png": "[encoded data removed]"
          },
          "metadata": {}
        }
      ],
      "source": [
        "output_titles = [\"Input previous day fire mask\", \"Ground truth next day fire mask\", \"Predicted next day fire mask\" ]\n",
        "\n",
        "n_rows = 1\n",
        "n_features = len(output_titles)\n",
        "\n",
        "CMAP = colors.ListedColormap(['silver', 'orangered'])\n",
        "BOUNDS = [0., 1.]\n",
        "NORM = colors.BoundaryNorm(BOUNDS, CMAP.N)\n",
        "\n",
        "fig = plt.figure(figsize=(30,13))\n",
        "\n",
        "for i in range(n_rows):\n",
        "    for j in range(n_features):\n",
        "        plt.subplot(n_rows, n_features + 1, i * (n_features + 1) + j + 1)\n",
        "        if i == 0:\n",
        "            plt.title(output_titles[j], fontsize=20)\n",
        "        if j == 0:\n",
        "            plt.imshow(input_data[i, :, :, -1], cmap=CMAP, norm=NORM)\n",
        "        if j == 1:\n",
        "            plt.imshow(targets[i, :, :, 0], cmap=CMAP, norm=NORM)\n",
        "        if j == 2:\n",
        "            plt.imshow(masks[i, :, :, 0], cmap=CMAP, norm=NORM)\n",
        "        plt.axis('off')\n",
        "plt.tight_layout()"
      ]
    }
  ],
  "metadata": {
    "kernelspec": {
      "display_name": "tensorflow:Python",
      "language": "python",
      "name": "conda-env-tensorflow-py"
    },
    "language_info": {
      "codemirror_mode": {
        "name": "ipython",
        "version": 3
      },
      "file_extension": ".py",
      "mimetype": "text/x-python",
      "name": "python",
      "nbconvert_exporter": "python",
      "pygments_lexer": "ipython3",
      "version": "3.9.7"
    },
    "colab": {
      "provenance": []
    }
  },
  "nbformat": 4,
  "nbformat_minor": 5
}